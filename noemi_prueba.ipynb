{
 "cells": [
  {
   "cell_type": "code",
   "execution_count": 1,
   "id": "6b304634",
   "metadata": {},
   "outputs": [
    {
     "name": "stdout",
     "output_type": "stream",
     "text": [
      "Cual es el primer valor? 1\n",
      "Cual es el segundo valor? 2\n",
      "A que potencia quieres elevar los valores? 3\n",
      "\n",
      "La suma de los valores es: 3\n",
      "La resta de los valores es: -1\n",
      "La multiplicacion de los valores es: 2\n",
      "La division de los valores es: 0.5\n",
      "La potencia del primer valor es: 1\n",
      "La potencia del segundo valor es: 8\n",
      "La raiz cuadrada del primer valor es: 1.0\n",
      "La raiz cuadrada del segundo valor es: 1.4142135623730951\n"
     ]
    }
   ],
   "source": [
    "from noemi import suman, restan, divisionn, potencian, raizn, multiplicacionn\n",
    "valoru = int(input('Cual es el primer valor? '))\n",
    "valorf = int(input('Cual es el segundo valor? '))\n",
    "pot = int(input('A que potencia quieres elevar los valores? '))\n",
    "print(\"\")\n",
    "\n",
    "suma = suman.suma(valoru,valorf)\n",
    "resta = restan.resta(valoru,valorf)\n",
    "multi = multiplicacionn.multiplicacion(valoru,valorf)\n",
    "division = divisionn.division(valoru,valorf)\n",
    "potenciau = potencian.potencia(valoru,pot)\n",
    "potenciaf = potencian.potencia(valorf,pot)\n",
    "raizu = raizn.raiz(valoru)\n",
    "raizf = raizn.raiz(valorf)\n",
    "\n",
    "print(suma)\n",
    "print(resta)\n",
    "print(multi)\n",
    "print(division)\n",
    "print(f\"La potencia del primer valor es: {potenciau}\")\n",
    "print(f\"La potencia del segundo valor es: {potenciaf}\")\n",
    "print(f\"La raiz cuadrada del primer valor es: {raizu}\")\n",
    "print(f\"La raiz cuadrada del segundo valor es: {raizf}\")"
   ]
  },
  {
   "cell_type": "code",
   "execution_count": null,
   "id": "4f172586",
   "metadata": {},
   "outputs": [],
   "source": []
  }
 ],
 "metadata": {
  "kernelspec": {
   "display_name": "Python 3 (ipykernel)",
   "language": "python",
   "name": "python3"
  },
  "language_info": {
   "codemirror_mode": {
    "name": "ipython",
    "version": 3
   },
   "file_extension": ".py",
   "mimetype": "text/x-python",
   "name": "python",
   "nbconvert_exporter": "python",
   "pygments_lexer": "ipython3",
   "version": "3.11.5"
  }
 },
 "nbformat": 4,
 "nbformat_minor": 5
}
